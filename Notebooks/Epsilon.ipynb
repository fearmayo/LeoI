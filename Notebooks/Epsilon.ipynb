{
 "cells": [
  {
   "cell_type": "code",
   "execution_count": 1,
   "id": "60174ad1",
   "metadata": {},
   "outputs": [],
   "source": [
    "#Calculating the escape fraction Epsilon as a function of Black Hole Mass\n",
    "import matplotlib\n",
    "#matplotlib.use('Agg')\n",
    "import yt\n",
    "import numpy as np\n",
    "import sys\n",
    "from scipy.signal import savgol_filter\n",
    "import matplotlib.pyplot as plt\n",
    "import glob\n",
    "from yt.utilities.physical_constants import mh, mp, me, G, kboltz, pi\n",
    "from math import pi\n",
    "from yt.units.yt_array import YTQuantity, YTArray\n",
    "\n",
    "\n"
   ]
  },
  {
   "cell_type": "code",
   "execution_count": 2,
   "id": "ad91bff5",
   "metadata": {},
   "outputs": [],
   "source": [
    "def BondiRadius(M_BH, cs, v):\n",
    "    R = G * M_BH / (cs*cs + v*v)\n",
    "    return R\n"
   ]
  },
  {
   "cell_type": "code",
   "execution_count": 3,
   "id": "637a5903",
   "metadata": {},
   "outputs": [
    {
     "name": "stdout",
     "output_type": "stream",
     "text": [
      "Dynamical Friction Time =  191.0799841005825 Gyr\n",
      "New Radius =  96.45336751510497 pc\n",
      "N_tot number density =  2.2288344450193287e-05 pc**(-3)\n",
      "Ntot in Galaxy =  20.0 dimensionless\n",
      "Merger Rate =  0.0002767948260636171 1/Gyr\n",
      "Total Number of Mergers in a Hubble Time =  0.07639537199355828 dimensionless\n",
      "epsilon =  0.9961802314003221 dimensionless\n"
     ]
    }
   ],
   "source": [
    "#Merger Rate of Heavy Seeds\n",
    "#\n",
    "R_0 = YTQuantity(100, 'pc') #Setting the radius of the inital black hole radius from centre\n",
    "Num_HeavySeeds = 20             #masses > 1000 Msolar\n",
    "\n",
    "#Just test with this seed mass\n",
    "M_BH = YTQuantity(1e4, 'msun')   #Peak heavy seed mass spectrum 10^4\n",
    "#N_tot = YTQuantity(1000, 'kpc**-3') #to induce mergers we need a large density\n",
    "#GalaxySize = YTQuantity(1, 'kpc')\n",
    "#GalaxyVolume = 4 * np.pi * np.power(GalaxySize, 3.0)/3.0\n",
    "background_density = YTQuantity(1e6, 'Msun/kpc**3')\n",
    "Temp = YTQuantity(10000, 'K')    #can vary (lower) this but 10000 K is reasonable\n",
    "Gamma = 5.0/3.0\n",
    "Mu = 1.22\n",
    "\n",
    "tau_hubble = YTQuantity(13.8, 'Gyr') #age of Universe\n",
    "f = 1e-4                          # fraction of volume filled with dense gas\n",
    "soundspeed2 = Gamma*kboltz*Temp/(Mu*mh)\n",
    "soundspeed = YTQuantity(np.sqrt(soundspeed2).d, 'cm/s')\n",
    "cs = soundspeed\n",
    "v_bh = cs\n",
    "R_bondi = BondiRadius(M_BH.in_units('g'), cs, v_bh)\n",
    "\n",
    "def MergerRate(M_BH, v_bh, cs, N_tot):\n",
    "    sigma = BondiRadius(M_BH.in_units('g'), cs, v_bh) * BondiRadius(M_BH.in_units('g'), cs, v_bh) * np.pi\n",
    "    merger_rate = 1e-2 * N_tot * sigma * v_bh\n",
    "    return merger_rate\n",
    "\n",
    "def NewRadius(R_0, t, t_df):\n",
    "    return(R_0 * np.exp(-t/(2*t_df)))\n",
    "\n",
    "#1. What is the sinking time for a heavy seed?\n",
    "\n",
    "t_df = YTQuantity(2 * (v_bh / YTQuantity(10, 'km/s')) * YTQuantity(3e6, 'Msun/kpc**3')/background_density * \\\n",
    "    YTQuantity(3e5, 'Msun')/M_BH, 'Gyr')\n",
    "\n",
    "print(\"Dynamical Friction Time = \", t_df)\n",
    "\n",
    "print(\"New Radius = \", NewRadius(R_0, tau_hubble, t_df))\n",
    "\n",
    "new_radius = NewRadius(R_0, tau_hubble, t_df)\n",
    "N_tot = Num_HeavySeeds/np.power(new_radius, 3.0)\n",
    "\n",
    "print(\"N_tot number density = \", N_tot)\n",
    "\n",
    "print(\"Ntot in Galaxy = \", N_tot*np.power(new_radius, 3.0))\n",
    "print(\"Merger Rate = \", MergerRate(M_BH, v_bh, cs, N_tot).to(\"Gyr**-1\"))\n",
    "\n",
    "N_mm = N_tot * np.power(new_radius, 3.0) * MergerRate(M_BH, v_bh, cs, N_tot) * tau_hubble\n",
    "\n",
    "#Total number of mergers in a Hubble Time\n",
    "print(\"Total Number of Mergers in a Hubble Time = \", N_mm)\n",
    "N_mm =  min(Num_HeavySeeds, N_mm)\n",
    "epsilon = 1 - (N_mm / (N_tot * np.power(new_radius, 3.0)))\n",
    "\n",
    "print(\"epsilon = \", epsilon)"
   ]
  },
  {
   "cell_type": "code",
   "execution_count": 4,
   "id": "b875213e",
   "metadata": {},
   "outputs": [
    {
     "name": "stdout",
     "output_type": "stream",
     "text": [
      "masses.sum = 2.583743e+06 Msolar\n"
     ]
    },
    {
     "data": {
      "image/png": "[encoded data removed]",
      "text/plain": [
       "<Figure size 432x288 with 1 Axes>"
      ]
     },
     "metadata": {
      "needs_background": "light"
     },
     "output_type": "display_data"
    },
    {
     "name": "stdout",
     "output_type": "stream",
     "text": [
      "bins =  [3.30112997 3.64379256 3.98645515 4.32911774 4.67178033 5.01444291\n",
      " 5.3571055 ]\n",
      "count =  [ 9. 19. 28. 34.  7.  3.]\n",
      "BH Masses =  [  2000.46046073   4403.44483938   9692.93161952  21336.23261057\n",
      "  46965.64877188 103381.52029102 227565.01862871]\n"
     ]
    },
    {
     "data": {
      "image/png": "[encoded data removed]",
      "text/plain": [
       "<Figure size 432x288 with 1 Axes>"
      ]
     },
     "metadata": {
      "needs_background": "light"
     },
     "output_type": "display_data"
    }
   ],
   "source": [
    "#Ok let's test the model\n",
    "#First up we need a normal distribution of heavy seed masses\n",
    "np.random.seed(131180)\n",
    "\n",
    "#Set up a normal (in log10 space) distribution. Set the mean at 2e4 with a standard deviation of 0.45 ish\n",
    "mu, sigma = 4.2, 0.45 # mean and standard deviation\n",
    "#mu, sigma = 4.9, 0.35 # mean and standard deviation\n",
    "s = np.random.normal(mu, sigma, 100)\n",
    "\n",
    "\n",
    "masses = np.power(10, s)\n",
    "#print(\"masses = \", masses)\n",
    "print(\"masses.sum = %e Msolar\" % (masses.sum()))\n",
    "count, bins, ignored = plt.hist(s, 30, density=True)\n",
    "\n",
    "plt.plot(bins, 1/(sigma * np.sqrt(2 * np.pi)) * np.exp( - (bins - mu)**2 / (2 * sigma**2) ),\n",
    "         linewidth=2, color='r')\n",
    "\n",
    "plt.show()\n",
    "\n",
    "#To do this I recreate the above histogram without normalising\n",
    "#and I divide into 5 bins\n",
    "count, bins, ignored = plt.hist(s, 6, density=False)\n",
    "\n",
    "\n",
    "\n",
    "print(\"bins = \", bins)\n",
    "print(\"count = \", count)\n",
    "print(\"BH Masses = \", np.power(10.0, bins))"
   ]
  },
  {
   "cell_type": "code",
   "execution_count": 5,
   "id": "c4e9ccd2",
   "metadata": {},
   "outputs": [
    {
     "name": "stdout",
     "output_type": "stream",
     "text": [
      "bins =  [  4403.44483938   9692.93161952  21336.23261057  46965.64877188\n",
      " 103381.52029102 227565.01862871]\n",
      "M_BH =  4403.444839376569 Msun\n",
      "t_df =  433.9329571972911 Gyr\n",
      "\n",
      "M_BH =  9692.931619523439 Msun\n",
      "t_df =  197.13332519101905 Gyr\n",
      "\n",
      "M_BH =  21336.232610571053 Msun\n",
      "t_df =  89.55657148484207 Gyr\n",
      "\n",
      "M_BH =  46965.64877188091 Msun\n",
      "t_df =  40.68505154239138 Gyr\n",
      "\n",
      "M_BH =  103381.52029102022 Msun\n",
      "t_df =  18.482992275862266 Gyr\n",
      "\n",
      "M_BH =  227565.01862871158 Msun\n",
      "t_df =  8.396720429704665 Gyr\n",
      "\n"
     ]
    }
   ],
   "source": [
    "#Now calculate the dynamical friction time for each mass bin\n",
    "#\n",
    "massbins = np.power(10, bins[1::])\n",
    "DyTime = []\n",
    "print(\"bins = \", massbins)\n",
    "for M_BH, N_tot in zip(massbins, count):\n",
    "    M_BH = YTQuantity(M_BH, 'Msun')\n",
    "    print(\"M_BH = \", M_BH)\n",
    "    t_df = YTQuantity(2 * (v_bh / YTQuantity(10, 'km/s')) * YTQuantity(3e6, 'Msun/kpc**3')/background_density * \\\n",
    "    YTQuantity(3e5, 'Msun')/M_BH, 'Gyr')\n",
    "    print(\"t_df = \", t_df)\n",
    "    print(\"\")\n",
    "    DyTime.append(t_df)\n",
    "    \n",
    " "
   ]
  },
  {
   "cell_type": "code",
   "execution_count": 6,
   "id": "6185895a",
   "metadata": {},
   "outputs": [
    {
     "name": "stdout",
     "output_type": "stream",
     "text": [
      "Merger Rate =  2.2731339757130683e-05 1/Gyr\n",
      "Total Number of Mergers in a Hubble Time =  0.002823232397835629 dimensionless\n",
      "epsilon =  0.9996863075113516 dimensionless\n",
      "\n",
      "Merger Rate =  0.00024623352447211537 1/Gyr\n",
      "Total Number of Mergers in a Hubble Time =  0.06456243011658862 dimensionless\n",
      "epsilon =  0.9966019773622848 dimensionless\n",
      "\n",
      "Merger Rate =  0.0019946007413626198 1/Gyr\n",
      "Total Number of Mergers in a Hubble Time =  0.7707137264625158 dimensionless\n",
      "epsilon =  0.9724745097691959 dimensionless\n",
      "\n",
      "Merger Rate =  0.015491120860683166 1/Gyr\n",
      "Total Number of Mergers in a Hubble Time =  7.268433907832538 dimensionless\n",
      "epsilon =  0.7862225321225724 dimensionless\n",
      "\n",
      "Merger Rate =  0.028474197425176602 1/Gyr\n",
      "Total Number of Mergers in a Hubble Time =  2.7506074712720583 dimensionless\n",
      "epsilon =  0.6070560755325631 dimensionless\n",
      "\n",
      "Merger Rate =  0.22701581399507087 1/Gyr\n",
      "Total Number of Mergers in a Hubble Time =  9.398454699395929 dimensionless\n",
      "epsilon =  0.0 dimensionless\n",
      "\n"
     ]
    }
   ],
   "source": [
    "#Calculate the number of mergers for each mass bin in a hubble time\n",
    "Epsilon = []\n",
    "for M_BH, Num_HeavySeeds, t_df in zip(massbins, count, DyTime):\n",
    "    new_radius = NewRadius(R_0, tau_hubble, t_df)\n",
    "    N_tot = Num_HeavySeeds/np.power(new_radius, 3.0)\n",
    "\n",
    "    #print(\"N_tot number density = \", N_tot)\n",
    "    \n",
    "    #print(\"Ntot in Galaxy = \", N_tot*np.power(new_radius, 3.0))\n",
    "    print(\"Merger Rate = \", MergerRate(YTQuantity(M_BH, 'Msun'), v_bh, cs, N_tot).to(\"Gyr**-1\"))\n",
    "\n",
    "    N_mm = N_tot * np.power(new_radius, 3.0) * MergerRate(YTQuantity(M_BH, 'Msun'), v_bh, cs, N_tot) * tau_hubble\n",
    "    \n",
    "\n",
    "    #Total number of mergers in a Hubble Time\n",
    "    print(\"Total Number of Mergers in a Hubble Time = \", N_mm)\n",
    "    N_mm =  min(Num_HeavySeeds, N_mm)\n",
    "    epsilon = 1 - (N_mm / (N_tot * np.power(new_radius, 3.0)))\n",
    "    Epsilon.append(epsilon)\n",
    "    print(\"epsilon = \", epsilon)\n",
    "    print(\"\")"
   ]
  },
  {
   "cell_type": "code",
   "execution_count": 7,
   "id": "0a690e4e",
   "metadata": {},
   "outputs": [
    {
     "data": {
      "image/png": "[encoded data removed]",
      "text/plain": [
       "<Figure size 432x288 with 1 Axes>"
      ]
     },
     "metadata": {
      "needs_background": "light"
     },
     "output_type": "display_data"
    }
   ],
   "source": [
    "#Now plot the\n",
    "#1. #Number of black holes at the start in each bin\n",
    "#2. Overplot the number of black holes at the end\n",
    "\n",
    "#Plot Epsilon against M_BH\n",
    "#font = {'family' : 'normal',\n",
    "#        'weight' : 'bold',\n",
    "#        'size'   : 18}\n",
    "\n",
    "#matplotlib.rc('font', **font)\n",
    "plt.rcParams.update({'font.size': 22})\n",
    "plt.figure()\n",
    "plt.semilogx(massbins, Epsilon, marker=\"o\")\n",
    "plt.xlabel(\"M$_{BH}$ [Msolar]\", fontsize=\"18\")\n",
    "plt.ylabel(\"Epsilon\", fontsize=\"18\")\n",
    "plt.tight_layout()\n",
    "plt.savefig(\"EpsilonVsMass.pdf\")"
   ]
  },
  {
   "cell_type": "code",
   "execution_count": null,
   "id": "27bb5815",
   "metadata": {},
   "outputs": [
    {
     "name": "stderr",
     "output_type": "stream",
     "text": [
      "/home/regan/.local/lib/python3.9/site-packages/unyt/array.py:1778: RuntimeWarning: invalid value encountered in true_divide\n",
      "  out_arr = func(\n",
      "/home/regan/.local/lib/python3.9/site-packages/unyt/array.py:1778: RuntimeWarning: invalid value encountered in true_divide\n",
      "  out_arr = func(\n",
      "/home/regan/.local/lib/python3.9/site-packages/unyt/array.py:1778: RuntimeWarning: invalid value encountered in true_divide\n",
      "  out_arr = func(\n",
      "/home/regan/.local/lib/python3.9/site-packages/unyt/array.py:1778: RuntimeWarning: invalid value encountered in true_divide\n",
      "  out_arr = func(\n",
      "/home/regan/.local/lib/python3.9/site-packages/unyt/array.py:1778: RuntimeWarning: invalid value encountered in true_divide\n",
      "  out_arr = func(\n",
      "/home/regan/.local/lib/python3.9/site-packages/unyt/array.py:1778: RuntimeWarning: invalid value encountered in true_divide\n",
      "  out_arr = func(\n",
      "/home/regan/.local/lib/python3.9/site-packages/unyt/array.py:1778: RuntimeWarning: invalid value encountered in true_divide\n",
      "  out_arr = func(\n",
      "/home/regan/.local/lib/python3.9/site-packages/unyt/array.py:1778: RuntimeWarning: invalid value encountered in true_divide\n",
      "  out_arr = func(\n",
      "/home/regan/.local/lib/python3.9/site-packages/unyt/array.py:1778: RuntimeWarning: invalid value encountered in true_divide\n",
      "  out_arr = func(\n",
      "/home/regan/.local/lib/python3.9/site-packages/unyt/array.py:1778: RuntimeWarning: invalid value encountered in true_divide\n",
      "  out_arr = func(\n",
      "/home/regan/.local/lib/python3.9/site-packages/unyt/array.py:1778: RuntimeWarning: invalid value encountered in true_divide\n",
      "  out_arr = func(\n",
      "/home/regan/.local/lib/python3.9/site-packages/unyt/array.py:1778: RuntimeWarning: invalid value encountered in true_divide\n",
      "  out_arr = func(\n",
      "/home/regan/.local/lib/python3.9/site-packages/unyt/array.py:1778: RuntimeWarning: invalid value encountered in true_divide\n",
      "  out_arr = func(\n",
      "/home/regan/.local/lib/python3.9/site-packages/unyt/array.py:1778: RuntimeWarning: invalid value encountered in true_divide\n",
      "  out_arr = func(\n",
      "/home/regan/.local/lib/python3.9/site-packages/unyt/array.py:1778: RuntimeWarning: invalid value encountered in true_divide\n",
      "  out_arr = func(\n",
      "/home/regan/.local/lib/python3.9/site-packages/unyt/array.py:1778: RuntimeWarning: invalid value encountered in true_divide\n",
      "  out_arr = func(\n",
      "/home/regan/.local/lib/python3.9/site-packages/numpy/core/fromnumeric.py:3440: RuntimeWarning: Mean of empty slice.\n",
      "  return _methods._mean(a, axis=axis, dtype=dtype,\n",
      "/home/regan/.local/lib/python3.9/site-packages/numpy/core/_methods.py:189: RuntimeWarning: invalid value encountered in double_scalars\n",
      "  ret = ret.dtype.type(ret / rcount)\n"
     ]
    }
   ],
   "source": [
    "NUMBINS = 20\n",
    "BinMasses = np.logspace(3, 6, NUMBINS)\n",
    "Binned_Mass = {}\n",
    "Binned_Epsilon = {}\n",
    "\n",
    "for i in range(NUMBINS):\n",
    "    Binned_Mass[i] = []\n",
    "    Binned_Epsilon[i] = []\n",
    "    \n",
    "def delta_bin(m, e):\n",
    "    for i in range(NUMBINS-1):\n",
    "        if(m > BinMasses[i] and m < BinMasses[i+1]):\n",
    "            if(e < 0.0):\n",
    "                continue\n",
    "            Binned_Mass[i].append(int(m))\n",
    "            Binned_Epsilon[i].append(e)\n",
    "            \n",
    "#Ok let's run a MC simulation\n",
    "#First up we need a normal distribution of heavy seed masses\n",
    "np.random.seed(131180)\n",
    "plt.figure()\n",
    "for i in range(10000):\n",
    "    #Set up a normal (in log10 space) distribution. Set the mean at 2e4 with a standard deviation of 0.45 ish\n",
    "    mu, sigma = 4.2, 0.45 # mean and standard deviation\n",
    "    #mu, sigma = 4.9, 0.35 # mean and standard deviation\n",
    "    s = np.random.normal(mu, sigma, 100)\n",
    "\n",
    "\n",
    "    masses = np.power(10, s)\n",
    "   \n",
    "    #To do this I recreate the above histogram without normalising\n",
    "    #and I divide into 5 bins\n",
    "    count, bins, ignored = plt.hist(s, 6, density=False)\n",
    "  \n",
    "    #Now calculate the dynamical friction time for each mass bin\n",
    "    #     \n",
    "    \n",
    "    #Calculate the number of mergers for each mass bin in a hubble time\n",
    "    massbins = np.power(10, bins[1::])\n",
    "    DyTime = []\n",
    "    Epsilon = []\n",
    "    Masses = []\n",
    "    #print(\"bins = \", massbins)\n",
    "    for M_BH, Num_HeavySeeds in zip(massbins, count):\n",
    "        M_BH = YTQuantity(M_BH, 'Msun')\n",
    "        #print(\"M_BH = \", M_BH)\n",
    "        t_df = YTQuantity(2 * (v_bh / YTQuantity(10, 'km/s')) * YTQuantity(3e6, 'Msun/kpc**3')/background_density * \\\n",
    "        YTQuantity(3e5, 'Msun')/M_BH, 'Gyr')\n",
    "        #print(\"t_df = \", t_df)\n",
    "        #print(\"\")\n",
    "        DyTime.append(t_df)\n",
    "        new_radius = NewRadius(R_0, tau_hubble, t_df)\n",
    "        N_tot = Num_HeavySeeds/np.power(new_radius, 3.0)\n",
    "\n",
    "        N_mm = N_tot * np.power(new_radius, 3.0) * MergerRate(YTQuantity(M_BH, 'Msun'), v_bh, cs, N_tot) * tau_hubble\n",
    "    \n",
    "\n",
    "        #Total number of mergers in a Hubble Time\n",
    "        #print(\"Total Number of Mergers in a Hubble Time = \", N_mm)\n",
    "        N_mm =  min(Num_HeavySeeds, N_mm)\n",
    "        epsilon = 1 - (N_mm / (N_tot * np.power(new_radius, 3.0)))\n",
    "        Epsilon.append(epsilon.v)\n",
    "        \n",
    "       \n",
    "        delta_bin(M_BH.v, epsilon.v)\n",
    " \n",
    "    plt.semilogx(massbins, Epsilon, color='red', alpha=0.025)\n",
    "\n",
    "FinalM = []\n",
    "FinalE = []\n",
    "for i in range(NUMBINS):\n",
    "    FinalM.append(np.mean(np.asarray(Binned_Mass[i])))\n",
    "    FinalE.append(np.mean(np.asarray(Binned_Epsilon[i])))\n",
    "plt.semilogx(FinalM, FinalE, marker=\"*\", color='blue')\n",
    "\n",
    "plt.xlabel(\"M$_{BH}$ [Msolar]\", fontsize=\"18\")\n",
    "plt.ylabel(\"Epsilon\", fontsize=\"18\")\n",
    "plt.xlim(5e2, 1e6)\n",
    "plt.ylim(-0.1,1.2)\n",
    "plt.xticks((1e3, 1e4, 1e5, 1e6))\n",
    "plt.tight_layout()\n",
    "plt.savefig(\"EpsilonVsMass_MC.pdf\")\n",
    "\n"
   ]
  },
  {
   "cell_type": "code",
   "execution_count": null,
   "id": "51297d14",
   "metadata": {},
   "outputs": [],
   "source": []
  }
 ],
 "metadata": {
  "kernelspec": {
   "display_name": "Python 3 (ipykernel)",
   "language": "python",
   "name": "python3"
  },
  "language_info": {
   "codemirror_mode": {
    "name": "ipython",
    "version": 3
   },
   "file_extension": ".py",
   "mimetype": "text/x-python",
   "name": "python",
   "nbconvert_exporter": "python",
   "pygments_lexer": "ipython3",
   "version": "3.9.7"
  }
 },
 "nbformat": 4,
 "nbformat_minor": 5
}
