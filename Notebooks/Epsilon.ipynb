{
 "cells": [
  {
   "cell_type": "code",
   "execution_count": 1,
   "id": "a02f87e5",
   "metadata": {},
   "outputs": [],
   "source": [
    "#Calculating the escape fraction Epsilon as a function of Black Hole Mass\n",
    "import matplotlib\n",
    "#matplotlib.use('Agg')\n",
    "import yt\n",
    "import numpy as np\n",
    "import sys\n",
    "from scipy.signal import savgol_filter\n",
    "import matplotlib.pyplot as plt\n",
    "import glob\n",
    "from yt.utilities.physical_constants import mh, mp, me, G, kboltz, pi\n",
    "from math import pi\n",
    "from yt.units.yt_array import YTQuantity, YTArray\n",
    "\n",
    "\n"
   ]
  },
  {
   "cell_type": "code",
   "execution_count": 2,
   "id": "5519a5d8",
   "metadata": {},
   "outputs": [],
   "source": [
    "def BondiRadius(M_BH, cs, v):\n",
    "    R = G * M_BH / (cs*cs + v*v)\n",
    "    return R\n"
   ]
  },
  {
   "cell_type": "code",
   "execution_count": 3,
   "id": "1dfd262f",
   "metadata": {},
   "outputs": [
    {
     "name": "stdout",
     "output_type": "stream",
     "text": [
      "Dynamical Friction Time =  9.553999205029124 Gyr\n",
      "New Radius =  242.83870218008317 pc\n",
      "N_tot number density =  1.3966136621239888e-06 pc**(-3)\n",
      "Ntot in Galaxy =  20.0 dimensionless\n",
      "Merger Rate =  1.7344286676363182e-05 1/Gyr\n",
      "Total Number of Mergers in a Hubble Time =  0.004787023122676235 dimensionless\n",
      "epsilon =  0.9997606488438662 dimensionless\n"
     ]
    }
   ],
   "source": [
    "#Merger Rate of Heavy Seeds\n",
    "#\n",
    "R_0 = YTQuantity(500, 'pc') #Setting the radius of the inital black hole radius from centre\n",
    "Num_HeavySeeds = 20             #masses > 1000 Msolar\n",
    "\n",
    "#Just test with this seed mass\n",
    "M_BH = YTQuantity(1e4, 'msun')   #Peak heavy seed mass spectrum 10^4\n",
    "#N_tot = YTQuantity(1000, 'kpc**-3') #to induce mergers we need a large density\n",
    "#GalaxySize = YTQuantity(1, 'kpc')\n",
    "#GalaxyVolume = 4 * np.pi * np.power(GalaxySize, 3.0)/3.0\n",
    "\n",
    "#The background density is the total density (DM + gas + stars)\n",
    "#For LeoI the total mass inside 1 kpc ~ 8 x 10^7 Msolar (i.e. pretty dense) so the density is \n",
    "#approximately 2e7 Msun/kpc^3. However, dynamical friction isn't as effective as this and \n",
    "#this has been realised when observing systems like Fornax etc. \n",
    "#Changing this value has a big impact on the dynamical friction timescale however and is the \n",
    "#single biggest driver. For LeoI the below value is probably ok I tink?\n",
    "\n",
    "background_density = YTQuantity(2e7, 'Msun/kpc**3')\n",
    "Temp = YTQuantity(10000, 'K')    #can vary (lower) this but 10000 K is reasonable\n",
    "Gamma = 5.0/3.0\n",
    "Mu = 1.22\n",
    "\n",
    "tau_hubble = YTQuantity(13.8, 'Gyr') #age of Universe\n",
    "f = 1e-4                          # fraction of volume filled with dense gas\n",
    "soundspeed2 = Gamma*kboltz*Temp/(Mu*mh)\n",
    "soundspeed = YTQuantity(np.sqrt(soundspeed2).d, 'cm/s')\n",
    "cs = soundspeed\n",
    "v_bh = cs\n",
    "R_bondi = BondiRadius(M_BH.in_units('g'), cs, v_bh)\n",
    "\n",
    "def MergerRate(M_BH, v_bh, cs, N_tot):\n",
    "    sigma = BondiRadius(M_BH.in_units('g'), cs, v_bh) * BondiRadius(M_BH.in_units('g'), cs, v_bh) * np.pi\n",
    "    merger_rate = 1e-2 * N_tot * sigma * v_bh\n",
    "    return merger_rate\n",
    "\n",
    "def NewRadius(R_0, t, t_df):\n",
    "    return(R_0 * np.exp(-t/(2*t_df)))\n",
    "\n",
    "#1. What is the sinking time for a heavy seed?\n",
    "\n",
    "t_df = YTQuantity(2 * (v_bh / YTQuantity(10, 'km/s')) * YTQuantity(3e6, 'Msun/kpc**3')/background_density * \\\n",
    "    YTQuantity(3e5, 'Msun')/M_BH, 'Gyr')\n",
    "\n",
    "print(\"Dynamical Friction Time = \", t_df)\n",
    "\n",
    "print(\"New Radius = \", NewRadius(R_0, tau_hubble, t_df))\n",
    "\n",
    "new_radius = NewRadius(R_0, tau_hubble, t_df)\n",
    "N_tot = Num_HeavySeeds/np.power(new_radius, 3.0)\n",
    "\n",
    "print(\"N_tot number density = \", N_tot)\n",
    "\n",
    "print(\"Ntot in Galaxy = \", N_tot*np.power(new_radius, 3.0))\n",
    "print(\"Merger Rate = \", MergerRate(M_BH, v_bh, cs, N_tot).to(\"Gyr**-1\"))\n",
    "\n",
    "N_mm = N_tot * np.power(new_radius, 3.0) * MergerRate(M_BH, v_bh, cs, N_tot) * tau_hubble\n",
    "\n",
    "#Total number of mergers in a Hubble Time\n",
    "print(\"Total Number of Mergers in a Hubble Time = \", N_mm)\n",
    "N_mm =  min(Num_HeavySeeds, N_mm)\n",
    "epsilon = 1 - (N_mm / (N_tot * np.power(new_radius, 3.0)))\n",
    "\n",
    "print(\"epsilon = \", epsilon)"
   ]
  },
  {
   "cell_type": "code",
   "execution_count": 4,
   "id": "1126c486",
   "metadata": {},
   "outputs": [
    {
     "name": "stdout",
     "output_type": "stream",
     "text": [
      "masses.sum = 3.250426e+06 Msolar\n"
     ]
    },
    {
     "data": {
      "image/png": "[encoded data removed]",
      "text/plain": [
       "<Figure size 432x288 with 1 Axes>"
      ]
     },
     "metadata": {
      "needs_background": "light"
     },
     "output_type": "display_data"
    },
    {
     "name": "stdout",
     "output_type": "stream",
     "text": [
      "bins =  [3.10138108 3.52019091 3.93900074 4.35781057 4.7766204  5.19543023\n",
      " 5.61424006]\n",
      "count =  [ 9. 19. 28. 34.  7.  3.]\n",
      "BH Masses =  [  1262.93522593   3312.76712123   8689.6190511   22793.47641712\n",
      "  59788.87729402 156830.39228688 411377.04967941]\n"
     ]
    },
    {
     "data": {
      "image/png": "[encoded data removed]",
      "text/plain": [
       "<Figure size 432x288 with 1 Axes>"
      ]
     },
     "metadata": {
      "needs_background": "light"
     },
     "output_type": "display_data"
    }
   ],
   "source": [
    "#Ok let's test the model\n",
    "#First up we need a normal distribution of heavy seed masses\n",
    "np.random.seed(131180)\n",
    "\n",
    "#Set up a normal (in log10 space) distribution. Set the mean at 2e4 with a standard deviation of 0.45 ish\n",
    "mu, sigma = 4.2, 0.55 # mean and standard deviation\n",
    "#mu, sigma = 4.9, 0.35 # mean and standard deviation\n",
    "s = np.random.normal(mu, sigma, 100)\n",
    "\n",
    "\n",
    "masses = np.power(10, s)\n",
    "#print(\"masses = \", masses)\n",
    "print(\"masses.sum = %e Msolar\" % (masses.sum()))\n",
    "count, bins, ignored = plt.hist(s, 30, density=True)\n",
    "\n",
    "plt.plot(bins, 1/(sigma * np.sqrt(2 * np.pi)) * np.exp( - (bins - mu)**2 / (2 * sigma**2) ),\n",
    "         linewidth=2, color='r')\n",
    "\n",
    "plt.show()\n",
    "\n",
    "#To do this I recreate the above histogram without normalising\n",
    "#and I divide into 5 bins\n",
    "count, bins, ignored = plt.hist(s, 6, density=False)\n",
    "\n",
    "\n",
    "\n",
    "print(\"bins = \", bins)\n",
    "print(\"count = \", count)\n",
    "print(\"BH Masses = \", np.power(10.0, bins))"
   ]
  },
  {
   "cell_type": "code",
   "execution_count": 5,
   "id": "b8d5a49c",
   "metadata": {},
   "outputs": [
    {
     "name": "stdout",
     "output_type": "stream",
     "text": [
      "bins =  [  3312.76712123   8689.6190511   22793.47641712  59788.87729402\n",
      " 156830.39228688 411377.04967941]\n",
      "M_BH =  3312.767121232004 Msun\n",
      "t_df =  28.83993608785888 Gyr\n",
      "\n",
      "M_BH =  8689.619051098756 Msun\n",
      "t_df =  10.994727327915568 Gyr\n",
      "\n",
      "M_BH =  22793.476417121892 Msun\n",
      "t_df =  4.191549823375077 Gyr\n",
      "\n",
      "M_BH =  59788.87729401652 Msun\n",
      "t_df =  1.5979559472318872 Gyr\n",
      "\n",
      "M_BH =  156830.39228687956 Msun\n",
      "t_df =  0.609193094891494 Gyr\n",
      "\n",
      "M_BH =  411377.0496794058 Msun\n",
      "t_df =  0.23224434159549598 Gyr\n",
      "\n"
     ]
    }
   ],
   "source": [
    "#Now calculate the dynamical friction time for each mass bin\n",
    "#\n",
    "massbins = np.power(10, bins[1::])\n",
    "DyTime = []\n",
    "print(\"bins = \", massbins)\n",
    "for M_BH, N_tot in zip(massbins, count):\n",
    "    M_BH = YTQuantity(M_BH, 'Msun')\n",
    "    print(\"M_BH = \", M_BH)\n",
    "    t_df = YTQuantity(2 * (v_bh / YTQuantity(10, 'km/s')) * YTQuantity(3e6, 'Msun/kpc**3')/background_density * \\\n",
    "    YTQuantity(3e5, 'Msun')/M_BH, 'Gyr')\n",
    "    print(\"t_df = \", t_df)\n",
    "    print(\"\")\n",
    "    DyTime.append(t_df)\n",
    "    \n",
    " "
   ]
  },
  {
   "cell_type": "code",
   "execution_count": 6,
   "id": "8756b931",
   "metadata": {},
   "outputs": [
    {
     "name": "stdout",
     "output_type": "stream",
     "text": [
      "Merger Rate =  2.0114598970163186e-07 1/Gyr\n",
      "Total Number of Mergers in a Hubble Time =  2.498233192094266e-05 dimensionless\n",
      "epsilon =  0.9999972241853421 dimensionless\n",
      "\n",
      "Merger Rate =  9.366566099875672e-06 1/Gyr\n",
      "Total Number of Mergers in a Hubble Time =  0.0024559136313874 dimensionless\n",
      "epsilon =  0.9998707413878217 dimensionless\n",
      "\n",
      "Merger Rate =  0.0020170461856391605 1/Gyr\n",
      "Total Number of Mergers in a Hubble Time =  0.7793866461309711 dimensionless\n",
      "epsilon =  0.9721647626381796 dimensionless\n",
      "\n",
      "Merger Rate =  51.02252587838497 1/Gyr\n",
      "Total Number of Mergers in a Hubble Time =  23939.769142138215 dimensionless\n",
      "epsilon =  0.0 dimensionless\n",
      "\n",
      "Merger Rate =  97764967794.4946 1/Gyr\n",
      "Total Number of Mergers in a Hubble Time =  9444095888948.174 dimensionless\n",
      "epsilon =  0.0 dimensionless\n",
      "\n",
      "Merger Rate =  2.5796115769103727e+35 1/Gyr\n",
      "Total Number of Mergers in a Hubble Time =  1.0679591928408938e+37 dimensionless\n",
      "epsilon =  0.0 dimensionless\n",
      "\n"
     ]
    }
   ],
   "source": [
    "#Calculate the number of mergers for each mass bin in a hubble time\n",
    "Epsilon = []\n",
    "for M_BH, Num_HeavySeeds, t_df in zip(massbins, count, DyTime):\n",
    "    new_radius = NewRadius(R_0, tau_hubble, t_df)\n",
    "    N_tot = Num_HeavySeeds/np.power(new_radius, 3.0)\n",
    "\n",
    "    #print(\"N_tot number density = \", N_tot)\n",
    "    \n",
    "    #print(\"Ntot in Galaxy = \", N_tot*np.power(new_radius, 3.0))\n",
    "    print(\"Merger Rate = \", MergerRate(YTQuantity(M_BH, 'Msun'), v_bh, cs, N_tot).to(\"Gyr**-1\"))\n",
    "\n",
    "    N_mm = N_tot * np.power(new_radius, 3.0) * MergerRate(YTQuantity(M_BH, 'Msun'), v_bh, cs, N_tot) * tau_hubble\n",
    "    \n",
    "\n",
    "    #Total number of mergers in a Hubble Time\n",
    "    print(\"Total Number of Mergers in a Hubble Time = \", N_mm)\n",
    "    N_mm =  min(Num_HeavySeeds, N_mm)\n",
    "    epsilon = 1 - (N_mm / (N_tot * np.power(new_radius, 3.0)))\n",
    "    Epsilon.append(epsilon)\n",
    "    print(\"epsilon = \", epsilon)\n",
    "    print(\"\")"
   ]
  },
  {
   "cell_type": "code",
   "execution_count": 7,
   "id": "c30ba3c4",
   "metadata": {},
   "outputs": [
    {
     "data": {
      "image/png": "[encoded data removed]",
      "text/plain": [
       "<Figure size 432x288 with 1 Axes>"
      ]
     },
     "metadata": {
      "needs_background": "light"
     },
     "output_type": "display_data"
    }
   ],
   "source": [
    "#Now plot the\n",
    "#1. #Number of black holes at the start in each bin\n",
    "#2. Overplot the number of black holes at the end\n",
    "\n",
    "#Plot Epsilon against M_BH\n",
    "#font = {'family' : 'normal',\n",
    "#        'weight' : 'bold',\n",
    "#        'size'   : 18}\n",
    "\n",
    "#matplotlib.rc('font', **font)\n",
    "plt.rcParams.update({'font.size': 22})\n",
    "plt.figure()\n",
    "plt.semilogx(massbins, Epsilon, marker=\"o\")\n",
    "plt.xlabel(\"M$_{BH}$ [Msolar]\", fontsize=\"18\")\n",
    "plt.ylabel(\"Epsilon\", fontsize=\"18\")\n",
    "plt.tight_layout()\n",
    "plt.savefig(\"EpsilonVsMass.pdf\")"
   ]
  },
  {
   "cell_type": "code",
   "execution_count": 9,
   "id": "05777de7",
   "metadata": {},
   "outputs": [
    {
     "name": "stderr",
     "output_type": "stream",
     "text": [
      "/home/regan/.local/lib/python3.9/site-packages/numpy/core/fromnumeric.py:3440: RuntimeWarning: Mean of empty slice.\n",
      "  return _methods._mean(a, axis=axis, dtype=dtype,\n",
      "/home/regan/.local/lib/python3.9/site-packages/numpy/core/_methods.py:189: RuntimeWarning: invalid value encountered in double_scalars\n",
      "  ret = ret.dtype.type(ret / rcount)\n"
     ]
    },
    {
     "data": {
      "image/png": "[encoded data removed]",
      "text/plain": [
       "<Figure size 432x288 with 1 Axes>"
      ]
     },
     "metadata": {
      "needs_background": "light"
     },
     "output_type": "display_data"
    }
   ],
   "source": [
    "NUMBINS = 20\n",
    "BinMasses = np.logspace(3, 6, NUMBINS)\n",
    "Binned_Mass = {}\n",
    "Binned_Epsilon = {}\n",
    "\n",
    "for i in range(NUMBINS):\n",
    "    Binned_Mass[i] = []\n",
    "    Binned_Epsilon[i] = []\n",
    "    \n",
    "def delta_bin(m, e):\n",
    "    for i in range(NUMBINS-1):\n",
    "        if(m > BinMasses[i] and m < BinMasses[i+1]):\n",
    "            if(e < 0.0):\n",
    "                continue\n",
    "            Binned_Mass[i].append(int(m))\n",
    "            Binned_Epsilon[i].append(e)\n",
    "            \n",
    "#Ok let's run a MC simulation\n",
    "#First up we need a normal distribution of heavy seed masses\n",
    "np.random.seed(131180)\n",
    "plt.figure()\n",
    "for i in range(1000):\n",
    "    #Set up a normal (in log10 space) distribution. Set the mean at 2e4 with a standard deviation of 0.45 ish\n",
    "    mu, sigma = 4.2, 0.45 # mean and standard deviation\n",
    "    #mu, sigma = 4.9, 0.35 # mean and standard deviation\n",
    "    s = np.random.normal(mu, sigma, 100)\n",
    "\n",
    "\n",
    "    masses = np.power(10, s)\n",
    "   \n",
    "    #To do this I recreate the above histogram without normalising\n",
    "    #and I divide into 6 bins\n",
    "    count, bins, ignored = plt.hist(s, 6, density=False)\n",
    "  \n",
    "    massbins = np.power(10, bins[1::])\n",
    "    DyTime = []\n",
    "    Epsilon = []\n",
    "    Masses = []\n",
    "\n",
    "    for M_BH, Num_HeavySeeds in zip(massbins, count):\n",
    "        M_BH = YTQuantity(M_BH, 'Msun')\n",
    "        \n",
    "        t_df = YTQuantity(2 * (v_bh / YTQuantity(10, 'km/s')) * YTQuantity(3e6, 'Msun/kpc**3')/background_density * \\\n",
    "        YTQuantity(3e5, 'Msun')/M_BH, 'Gyr')\n",
    "        \n",
    "        DyTime.append(t_df)\n",
    "        new_radius = NewRadius(R_0, tau_hubble, t_df)\n",
    "        N_tot = Num_HeavySeeds/np.power(new_radius, 3.0)\n",
    "\n",
    "        N_mm = N_tot * np.power(new_radius, 3.0) * MergerRate(YTQuantity(M_BH, 'Msun'), v_bh, cs, N_tot) * tau_hubble\n",
    "    \n",
    "\n",
    "        #Total number of mergers in a Hubble Time\n",
    "        #print(\"Total Number of Mergers in a Hubble Time = \", N_mm)\n",
    "        N_mm =  min(Num_HeavySeeds, N_mm)\n",
    "        epsilon = 1 - (N_mm / (N_tot * np.power(new_radius, 3.0)))\n",
    "        Epsilon.append(epsilon.v)\n",
    "        \n",
    "       \n",
    "        delta_bin(M_BH.v, epsilon.v)\n",
    " \n",
    "    plt.semilogx(massbins, Epsilon, color='red', alpha=0.025)\n",
    "\n",
    "FinalM = []\n",
    "FinalE = []\n",
    "for i in range(NUMBINS):\n",
    "    FinalM.append(np.mean(np.asarray(Binned_Mass[i])))\n",
    "    FinalE.append(np.mean(np.asarray(Binned_Epsilon[i])))\n",
    "plt.semilogx(FinalM, FinalE, marker=\"*\", color='blue')\n",
    "\n",
    "plt.xlabel(\"M$_{BH}$ [M$_{\\odot}$]\", fontsize=\"20\")\n",
    "plt.ylabel(\"$\\epsilon$\", fontsize=\"20\")\n",
    "plt.xlim(1e3, 1e6)\n",
    "plt.ylim(-0.1,1.1)\n",
    "plt.yticks((0.0, 0.2, 0.4, 0.6, 0.8, 1.0))\n",
    "plt.xticks((1e3, 1e4, 1e5, 1e6))\n",
    "plt.tight_layout()\n",
    "plt.savefig(\"EpsilonVsMass_MC.pdf\")\n",
    "\n"
   ]
  },
  {
   "cell_type": "code",
   "execution_count": null,
   "id": "aff9d9dd",
   "metadata": {},
   "outputs": [],
   "source": []
  }
 ],
 "metadata": {
  "kernelspec": {
   "display_name": "Python 3 (ipykernel)",
   "language": "python",
   "name": "python3"
  },
  "language_info": {
   "codemirror_mode": {
    "name": "ipython",
    "version": 3
   },
   "file_extension": ".py",
   "mimetype": "text/x-python",
   "name": "python",
   "nbconvert_exporter": "python",
   "pygments_lexer": "ipython3",
   "version": "3.9.7"
  }
 },
 "nbformat": 4,
 "nbformat_minor": 5
}
