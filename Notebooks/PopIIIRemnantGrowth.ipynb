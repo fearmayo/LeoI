{
 "cells": [
  {
   "cell_type": "code",
   "execution_count": 1,
   "metadata": {},
   "outputs": [],
   "source": [
    "#Quantifying the probability of PopIII remnant growth\n",
    "import matplotlib\n",
    "matplotlib.use('Agg')\n",
    "import yt\n",
    "import numpy as np\n",
    "import sys\n",
    "from scipy.signal import savgol_filter\n",
    "import matplotlib.pyplot as plt\n",
    "import glob\n",
    "from yt.utilities.physical_constants import mh, mp, me, G, kboltz, pi\n",
    "from math import pi\n",
    "from yt.units.yt_array import YTQuantity, YTArray\n",
    "\n",
    "\n",
    "\n"
   ]
  },
  {
   "cell_type": "code",
   "execution_count": 2,
   "metadata": {},
   "outputs": [],
   "source": [
    "def BondiRadius(M_BH, cs, v):\n",
    "    R = G * M_BH / (cs*cs + v*v)\n",
    "    return R\n"
   ]
  },
  {
   "cell_type": "code",
   "execution_count": 3,
   "metadata": {},
   "outputs": [
    {
     "name": "stdout",
     "output_type": "stream",
     "text": [
      "soundspeed2 =  1126900009996.2607 erg/g\n",
      "cs =  10.615554672254584 km/s\n",
      "Black Hole Mass =  500 Msun\n",
      "R_bondi = 1.011010e-02 pc\t 2.085358e+03 au\n",
      "N_clouds =  800.0 dimensionless\n"
     ]
    }
   ],
   "source": [
    "#Set up out systems\n",
    "R_coregal = YTQuantity(20, 'pc') #Setting the radius for the random walk at 20 pc (conservative)\n",
    "R_cloud = YTQuantity(0.1, 'pc')  #difficult to quantify. Conservative?\n",
    "#N_clouds = 1000                   #Hard to see how it is larger than this. Conservative?\n",
    "M_BH = YTQuantity(500, 'msun')   #optimistic\n",
    "Temp = YTQuantity(10000, 'K')    #can vary (lower) this but 10000 K is reasonable\n",
    "Gamma = 5.0/3.0\n",
    "Mu = 1.22\n",
    "v_bh = YTQuantity(10, 'km/s')     #reasonable compared to circular velocity of these haloes. \n",
    "tau_hubble = YTQuantity(13.8, 'Gyr') #age of Universe\n",
    "f = 1e-4                          # fraction of volume filled with dense gas\n",
    "\n",
    "\n",
    "\n",
    "\n",
    "\n",
    "N_clouds = f * np.power(R_coregal/R_cloud, 3.0)\n",
    "soundspeed2 = Gamma*kboltz*Temp/(Mu*mh)\n",
    "print(\"soundspeed2 = \", soundspeed2)\n",
    "soundspeed = YTQuantity(np.sqrt(soundspeed2).d, 'cm/s')\n",
    "cs = soundspeed\n",
    "print(\"cs = \", cs.to('km/s'))\n",
    "print(\"Black Hole Mass = \", M_BH)\n",
    "R_bondi = BondiRadius(M_BH.in_units('g'), cs, v_bh)\n",
    "print(\"R_bondi = %e pc\\t %e au\" % (R_bondi.to('pc'), R_bondi.to('au')))\n",
    "print(\"N_clouds = \", N_clouds)\n",
    "\n",
    "\n",
    "v_bh = cs"
   ]
  },
  {
   "cell_type": "code",
   "execution_count": 4,
   "metadata": {},
   "outputs": [
    {
     "name": "stdout",
     "output_type": "stream",
     "text": [
      "tau_sample =  14418.267524422059 Gyr\n",
      "Percentage of galaxy sampled = 0.095712 percent\n",
      "Probability of Black Holes encountering a gas cloud = 9.57e-08\n"
     ]
    }
   ],
   "source": [
    "#We assume that the Black Hole (defined by it's Bondi Hoyle radius) makes a random walk around the galaxy. \n",
    "#To calculate the probability of a black hole growing we calculate the probability that during that random \n",
    "#walk that the black hole intersects a gas cloud\n",
    "\n",
    "# P_growth = Probability of black hole being in gas cloud (P_cloud) * Number of clouds (N_clouds) * Number of iterations (N_iters)\n",
    "\n",
    "P_cloud = np.power(R_cloud/R_coregal, 3.0)\n",
    "\n",
    "#Number of iterations is equivalent to distance travelled in a given time\n",
    "\n",
    "#Time to sample the galactic core = (R_core/R_bondi)^3 * (2 * R_bondi/v_bh) == tau_sample\n",
    "\n",
    "#Then the fraction sampled = tau_hubble/tau_sampled\n",
    "\n",
    "tau_sample = np.power(R_coregal/R_bondi, 3.0) * (2 * R_bondi/v_bh)\n",
    "\n",
    "print(\"tau_sample = \", tau_sample.to('Gyr'))\n",
    "\n",
    "P_sampled = tau_hubble/tau_sample\n",
    "print(\"Percentage of galaxy sampled = %1.6f percent\" % (100*tau_hubble/tau_sample))\n",
    "\n",
    "\n",
    "P_growth = P_cloud * N_clouds * P_sampled\n",
    "\n",
    "print(\"Probability of Black Holes encountering a gas cloud = %1.2e\" % (P_growth))"
   ]
  },
  {
   "cell_type": "code",
   "execution_count": null,
   "metadata": {},
   "outputs": [],
   "source": []
  }
 ],
 "metadata": {
  "kernelspec": {
   "display_name": "Python 3",
   "language": "python",
   "name": "python3"
  },
  "language_info": {
   "codemirror_mode": {
    "name": "ipython",
    "version": 3
   },
   "file_extension": ".py",
   "mimetype": "text/x-python",
   "name": "python",
   "nbconvert_exporter": "python",
   "pygments_lexer": "ipython3",
   "version": "3.8.5"
  }
 },
 "nbformat": 4,
 "nbformat_minor": 5
}
